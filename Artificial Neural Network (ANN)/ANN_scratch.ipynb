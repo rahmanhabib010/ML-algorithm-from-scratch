{
 "cells": [
  {
   "cell_type": "code",
   "execution_count": 33,
   "metadata": {},
   "outputs": [],
   "source": [
    "import numpy as np\n",
    "from matplotlib import pyplot as plt"
   ]
  },
  {
   "cell_type": "code",
   "execution_count": 34,
   "metadata": {},
   "outputs": [],
   "source": [
    "train_all = np.loadtxt('largeTrain.csv', dtype=int, delimiter=',')\n",
    "valid_all = np.loadtxt('largeValidation.csv', dtype=int, delimiter=',')\n",
    "\n",
    "# print(train_all.shape)\n",
    "# print(valid_all.shape)\n",
    "\n",
    "X_train = train_all[:, 1:]\n",
    "y_train = train_all[:, 0]\n",
    "y_train = y_train.reshape(y_train.shape[0],1)\n",
    "# y_train = y_train.T\n",
    "X_val = valid_all[:, 1:]\n",
    "X_val = X_val.T \n",
    "y_val = valid_all[:, 0]\n",
    "y_val = y_val.reshape(y_val.shape[0],1)\n",
    "feature_set=X_train"
   ]
  },
  {
   "cell_type": "code",
   "execution_count": 35,
   "metadata": {},
   "outputs": [
    {
     "data": {
      "text/plain": [
       "9000"
      ]
     },
     "execution_count": 35,
     "metadata": {},
     "output_type": "execute_result"
    }
   ],
   "source": [
    "instances = feature_set.shape[0]\n",
    "attributes = feature_set.shape[1]\n",
    "hidden_nodes = 20\n",
    "output_labels = 10\n",
    "instances"
   ]
  },
  {
   "cell_type": "code",
   "execution_count": 36,
   "metadata": {},
   "outputs": [],
   "source": [
    "one_hot_labels = np.zeros((9000, 10))\n",
    "for i in range(one_hot_labels.shape[0]):\n",
    "        one_hot_labels[i,y_train[i,0]]=1"
   ]
  },
  {
   "cell_type": "code",
   "execution_count": 49,
   "metadata": {},
   "outputs": [],
   "source": [
    "wh = np.random.rand(attributes,hidden_nodes)\n",
    "bh = np.random.randn(hidden_nodes)\n",
    "\n",
    "wo = np.random.rand(hidden_nodes,output_labels)\n",
    "bo = np.random.randn(output_labels)\n",
    "lr = .0001"
   ]
  },
  {
   "cell_type": "code",
   "execution_count": 50,
   "metadata": {},
   "outputs": [],
   "source": [
    "def sigmoid(x):\n",
    "    return 1/(1+np.exp(-x))\n",
    "\n",
    "def sigmoid_der(x):\n",
    "    return sigmoid(x) *(1-sigmoid (x))\n",
    "\n",
    "def softmax(A):\n",
    "    expA = np.exp(A)\n",
    "    return expA / expA.sum(axis=1, keepdims=True)\n"
   ]
  },
  {
   "cell_type": "code",
   "execution_count": 51,
   "metadata": {},
   "outputs": [
    {
     "name": "stdout",
     "output_type": "stream",
     "text": [
      "Loss function value:  3.109601189954064\n",
      "Loss function value:  2.374016397285812\n",
      "Loss function value:  2.31979035148137\n",
      "Loss function value:  2.311261582012293\n",
      "Loss function value:  2.307124875807433\n",
      "Loss function value:  2.3048514948763845\n",
      "Loss function value:  2.3035262060305364\n",
      "Loss function value:  2.3027267877764124\n",
      "Loss function value:  2.3022329065511022\n",
      "Loss function value:  2.3019212356355103\n",
      "Loss function value:  2.3017198422302374\n",
      "Loss function value:  2.3015857320891544\n",
      "Loss function value:  2.3014928320881487\n",
      "Loss function value:  2.301425193941826\n",
      "Loss function value:  2.301373012141683\n",
      "Loss function value:  2.3013302387364964\n",
      "Loss function value:  2.3012931353036\n",
      "Loss function value:  2.3012593868174256\n",
      "Loss function value:  2.3012275568321563\n",
      "Loss function value:  2.301196751609119\n",
      "Loss function value:  2.3011664127369595\n",
      "Loss function value:  2.3011361889745277\n",
      "Loss function value:  2.3011058570094627\n",
      "Loss function value:  2.3010752724434416\n",
      "Loss function value:  2.3010443394634335\n",
      "Loss function value:  2.3010129920672013\n",
      "Loss function value:  2.3009811824340205\n",
      "Loss function value:  2.30094887371426\n",
      "Loss function value:  2.300916035551683\n",
      "Loss function value:  2.3008826412954937\n",
      "Loss function value:  2.300848666256948\n",
      "Loss function value:  2.300814086611271\n",
      "Loss function value:  2.3007788786977823\n",
      "Loss function value:  2.300743018565249\n",
      "Loss function value:  2.300706481667621\n",
      "Loss function value:  2.3006692426514004\n",
      "Loss function value:  2.30063127519809\n",
      "Loss function value:  2.3005925518989754\n",
      "Loss function value:  2.3005530441480047\n",
      "Loss function value:  2.3005127220437815\n",
      "Loss function value:  2.3004715542949334\n",
      "Loss function value:  2.300429508125094\n",
      "Loss function value:  2.300386549174987\n",
      "Loss function value:  2.3003426413997783\n",
      "Loss function value:  2.300297746960344\n",
      "Loss function value:  2.300251826107321\n",
      "Loss function value:  2.300204837056918\n",
      "Loss function value:  2.3001567358575365\n",
      "Loss function value:  2.300107476246215\n",
      "Loss function value:  2.3000570094938886\n"
     ]
    }
   ],
   "source": [
    "error_cost = []\n",
    "\n",
    "for epoch in range(100):\n",
    "############# feedforward\n",
    "\n",
    "    # Phase 1\n",
    "    zh = np.dot(feature_set, wh) + bh\n",
    "    ah = sigmoid(zh)\n",
    "\n",
    "    # Phase 2\n",
    "    zo = np.dot(ah, wo) + bo\n",
    "    ao = softmax(zo)\n",
    "\n",
    "########## Back Propagation\n",
    "\n",
    "########## Phase 1\n",
    "\n",
    "    dcost_dzo = ao - one_hot_labels\n",
    "    dzo_dwo = ah\n",
    "\n",
    "    dcost_wo = np.dot(dzo_dwo.T, dcost_dzo)\n",
    "\n",
    "    dcost_bo = dcost_dzo\n",
    "\n",
    "########## Phases 2\n",
    "\n",
    "    dzo_dah = wo\n",
    "    dcost_dah = np.dot(dcost_dzo , dzo_dah.T)\n",
    "    dah_dzh = sigmoid_der(zh)\n",
    "    dzh_dwh = feature_set\n",
    "    dcost_wh = np.dot(dzh_dwh.T, dah_dzh * dcost_dah)\n",
    "\n",
    "    dcost_bh = dcost_dah * dah_dzh\n",
    "\n",
    "    # Update Weights ================\n",
    "\n",
    "    wh -= lr * dcost_wh\n",
    "    bh -= lr * dcost_bh.sum(axis=0)\n",
    "\n",
    "    wo -= lr * dcost_wo\n",
    "    bo -= lr * dcost_bo.sum(axis=0)\n",
    "\n",
    "    if epoch % 2 == 0:\n",
    "        loss = (1/instances)*np.sum(-one_hot_labels * np.log(ao))\n",
    "        print('Loss function value: ', loss)\n",
    "        error_cost.append(loss)"
   ]
  },
  {
   "cell_type": "code",
   "execution_count": 52,
   "metadata": {
    "scrolled": false
   },
   "outputs": [
    {
     "data": {
      "image/png": "[encoded data removed]",
      "text/plain": [
       "<Figure size 720x576 with 1 Axes>"
      ]
     },
     "metadata": {
      "needs_background": "light"
     },
     "output_type": "display_data"
    }
   ],
   "source": [
    "plt.figure(figsize=(10, 8))\n",
    "plt.plot(error_cost)\n",
    "plt.show()"
   ]
  },
  {
   "cell_type": "code",
   "execution_count": 53,
   "metadata": {
    "scrolled": true
   },
   "outputs": [
    {
     "data": {
      "text/plain": [
       "array([[0.0998276 , 0.10033186, 0.10005124, ..., 0.10015063, 0.10023998,\n",
       "        0.09997952],\n",
       "       [0.09982727, 0.10033203, 0.10005146, ..., 0.10015071, 0.10024005,\n",
       "        0.09997941],\n",
       "       [0.0998304 , 0.10032771, 0.10005184, ..., 0.10014847, 0.10023977,\n",
       "        0.09997989],\n",
       "       ...,\n",
       "       [0.09982745, 0.10033197, 0.10005152, ..., 0.10015085, 0.10023986,\n",
       "        0.09997944],\n",
       "       [0.09982725, 0.10033204, 0.10005147, ..., 0.10015072, 0.10024005,\n",
       "        0.09997941],\n",
       "       [0.09988811, 0.10027407, 0.10001489, ..., 0.10011336, 0.10024033,\n",
       "        0.09999187]])"
      ]
     },
     "execution_count": 53,
     "metadata": {},
     "output_type": "execute_result"
    }
   ],
   "source": [
    "ao"
   ]
  },
  {
   "cell_type": "code",
   "execution_count": null,
   "metadata": {},
   "outputs": [],
   "source": []
  }
 ],
 "metadata": {
  "kernelspec": {
   "display_name": "Python 3",
   "language": "python",
   "name": "python3"
  },
  "language_info": {
   "codemirror_mode": {
    "name": "ipython",
    "version": 3
   },
   "file_extension": ".py",
   "mimetype": "text/x-python",
   "name": "python",
   "nbconvert_exporter": "python",
   "pygments_lexer": "ipython3",
   "version": "3.8.8"
  }
 },
 "nbformat": 4,
 "nbformat_minor": 4
}
